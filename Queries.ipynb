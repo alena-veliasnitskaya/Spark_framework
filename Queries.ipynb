{
 "cells": [
  {
   "cell_type": "code",
   "execution_count": 30,
   "id": "348da9cc",
   "metadata": {},
   "outputs": [],
   "source": [
    "import findspark\n",
    "findspark.init()\n",
    "import sys\n",
    "import pyspark\n",
    "from pyspark.sql import SparkSession\n",
    "from pyspark.sql.types import StructType, StructField, IntegerType, StringType\n",
    "from pyspark.sql.functions import *\n",
    "from pyspark.sql.window import Window"
   ]
  },
  {
   "cell_type": "code",
   "execution_count": 2,
   "id": "6035820a",
   "metadata": {},
   "outputs": [],
   "source": [
    "import os\n",
    "sparkClassPath = os.environ['PYSPARK_SUBMIT_ARGS'] = '--packages org.postgresql:postgresql:42.1.1 pyspark-shell'"
   ]
  },
  {
   "cell_type": "code",
   "execution_count": 3,
   "id": "251bbc45",
   "metadata": {},
   "outputs": [],
   "source": [
    "spark = SparkSession \\\n",
    "    .builder \\\n",
    "    .config(\"spark.driver.extraClassPath\", sparkClassPath) \\\n",
    "    .getOrCreate()"
   ]
  },
  {
   "cell_type": "code",
   "execution_count": 4,
   "id": "734b7cc9",
   "metadata": {},
   "outputs": [
    {
     "name": "stdout",
     "output_type": "stream",
     "text": [
      "+--------+----------+------------+-------------------+\n",
      "|actor_id|first_name|   last_name|        last_update|\n",
      "+--------+----------+------------+-------------------+\n",
      "|       1|  PENELOPE|     GUINESS|2022-02-15 10:34:33|\n",
      "|       2|      NICK|    WAHLBERG|2022-02-15 10:34:33|\n",
      "|       3|        ED|       CHASE|2022-02-15 10:34:33|\n",
      "|       4|  JENNIFER|       DAVIS|2022-02-15 10:34:33|\n",
      "|       5|    JOHNNY|LOLLOBRIGIDA|2022-02-15 10:34:33|\n",
      "|       6|     BETTE|   NICHOLSON|2022-02-15 10:34:33|\n",
      "|       7|     GRACE|      MOSTEL|2022-02-15 10:34:33|\n",
      "|       8|   MATTHEW|   JOHANSSON|2022-02-15 10:34:33|\n",
      "|       9|       JOE|       SWANK|2022-02-15 10:34:33|\n",
      "|      10| CHRISTIAN|       GABLE|2022-02-15 10:34:33|\n",
      "|      11|      ZERO|        CAGE|2022-02-15 10:34:33|\n",
      "|      12|      KARL|       BERRY|2022-02-15 10:34:33|\n",
      "|      13|       UMA|        WOOD|2022-02-15 10:34:33|\n",
      "|      14|    VIVIEN|      BERGEN|2022-02-15 10:34:33|\n",
      "|      15|      CUBA|     OLIVIER|2022-02-15 10:34:33|\n",
      "|      16|      FRED|     COSTNER|2022-02-15 10:34:33|\n",
      "|      17|     HELEN|      VOIGHT|2022-02-15 10:34:33|\n",
      "|      18|       DAN|        TORN|2022-02-15 10:34:33|\n",
      "|      19|       BOB|     FAWCETT|2022-02-15 10:34:33|\n",
      "|      20|   LUCILLE|       TRACY|2022-02-15 10:34:33|\n",
      "+--------+----------+------------+-------------------+\n",
      "only showing top 20 rows\n",
      "\n"
     ]
    }
   ],
   "source": [
    "actor = spark.read \\\n",
    "    .format(\"jdbc\") \\\n",
    "    .option(\"url\", \"jdbc:postgresql://localhost:5432/postgres\") \\\n",
    "    .option(\"driver\", \"org.postgresql.Driver\") \\\n",
    "    .option(\"dbtable\", \"actor\") \\\n",
    "    .option(\"user\", \"postgres\") \\\n",
    "    .option(\"password\", \"postgre\") \\\n",
    "    .load()\n",
    "\n",
    "actor.show()"
   ]
  },
  {
   "cell_type": "code",
   "execution_count": 5,
   "id": "b90182e6",
   "metadata": {},
   "outputs": [],
   "source": [
    "film_category = spark.read \\\n",
    "    .format(\"jdbc\") \\\n",
    "    .option(\"url\", \"jdbc:postgresql://localhost:5432/postgres\") \\\n",
    "    .option(\"driver\", \"org.postgresql.Driver\") \\\n",
    "    .option(\"dbtable\", \"film_category\") \\\n",
    "    .option(\"user\", \"postgres\") \\\n",
    "    .option(\"password\", \"postgre\") \\\n",
    "    .load()"
   ]
  },
  {
   "cell_type": "code",
   "execution_count": 6,
   "id": "78077259",
   "metadata": {},
   "outputs": [],
   "source": [
    "category = spark.read \\\n",
    "    .format(\"jdbc\") \\\n",
    "    .option(\"url\", \"jdbc:postgresql://localhost:5432/postgres\") \\\n",
    "    .option(\"driver\", \"org.postgresql.Driver\") \\\n",
    "    .option(\"dbtable\", \"category\") \\\n",
    "    .option(\"user\", \"postgres\") \\\n",
    "    .option(\"password\", \"postgre\") \\\n",
    "    .load()"
   ]
  },
  {
   "cell_type": "code",
   "execution_count": 7,
   "id": "914ad99b",
   "metadata": {},
   "outputs": [],
   "source": [
    "rental = spark.read \\\n",
    "    .format(\"jdbc\") \\\n",
    "    .option(\"url\", \"jdbc:postgresql://localhost:5432/postgres\") \\\n",
    "    .option(\"driver\", \"org.postgresql.Driver\") \\\n",
    "    .option(\"dbtable\", \"rental\") \\\n",
    "    .option(\"user\", \"postgres\") \\\n",
    "    .option(\"password\", \"postgre\") \\\n",
    "    .load()\n"
   ]
  },
  {
   "cell_type": "code",
   "execution_count": 8,
   "id": "3dab9dcd",
   "metadata": {},
   "outputs": [],
   "source": [
    "inventory = spark.read \\\n",
    "    .format(\"jdbc\") \\\n",
    "    .option(\"url\", \"jdbc:postgresql://localhost:5432/postgres\") \\\n",
    "    .option(\"driver\", \"org.postgresql.Driver\") \\\n",
    "    .option(\"dbtable\", \"inventory\") \\\n",
    "    .option(\"user\", \"postgres\") \\\n",
    "    .option(\"password\", \"postgre\") \\\n",
    "    .load()\n"
   ]
  },
  {
   "cell_type": "code",
   "execution_count": 9,
   "id": "888df3d1",
   "metadata": {},
   "outputs": [],
   "source": [
    "film = spark.read \\\n",
    "    .format(\"jdbc\") \\\n",
    "    .option(\"url\", \"jdbc:postgresql://localhost:5432/postgres\") \\\n",
    "    .option(\"driver\", \"org.postgresql.Driver\") \\\n",
    "    .option(\"dbtable\", \"film\") \\\n",
    "    .option(\"user\", \"postgres\") \\\n",
    "    .option(\"password\", \"postgre\") \\\n",
    "    .load()\n"
   ]
  },
  {
   "cell_type": "code",
   "execution_count": 10,
   "id": "44404ea7",
   "metadata": {},
   "outputs": [],
   "source": [
    "film_actor = spark.read \\\n",
    "    .format(\"jdbc\") \\\n",
    "    .option(\"url\", \"jdbc:postgresql://localhost:5432/postgres\") \\\n",
    "    .option(\"driver\", \"org.postgresql.Driver\") \\\n",
    "    .option(\"dbtable\", \"film_actor\") \\\n",
    "    .option(\"user\", \"postgres\") \\\n",
    "    .option(\"password\", \"postgre\") \\\n",
    "    .load()\n",
    "\n"
   ]
  },
  {
   "cell_type": "code",
   "execution_count": 11,
   "id": "1819c0ab",
   "metadata": {},
   "outputs": [],
   "source": [
    "payment = spark.read \\\n",
    "    .format(\"jdbc\") \\\n",
    "    .option(\"url\", \"jdbc:postgresql://localhost:5432/postgres\") \\\n",
    "    .option(\"driver\", \"org.postgresql.Driver\") \\\n",
    "    .option(\"dbtable\", \"payment\") \\\n",
    "    .option(\"user\", \"postgres\") \\\n",
    "    .option(\"password\", \"postgre\") \\\n",
    "    .load()\n"
   ]
  },
  {
   "cell_type": "code",
   "execution_count": 61,
   "id": "aa74e3b0",
   "metadata": {},
   "outputs": [],
   "source": [
    "city = spark.read \\\n",
    "    .format(\"jdbc\") \\\n",
    "    .option(\"url\", \"jdbc:postgresql://localhost:5432/postgres\") \\\n",
    "    .option(\"driver\", \"org.postgresql.Driver\") \\\n",
    "    .option(\"dbtable\", \"city\") \\\n",
    "    .option(\"user\", \"postgres\") \\\n",
    "    .option(\"password\", \"postgre\") \\\n",
    "    .load()"
   ]
  },
  {
   "cell_type": "code",
   "execution_count": 13,
   "id": "d77265a6",
   "metadata": {},
   "outputs": [],
   "source": [
    "address = spark.read \\\n",
    "    .format(\"jdbc\") \\\n",
    "    .option(\"url\", \"jdbc:postgresql://localhost:5432/postgres\") \\\n",
    "    .option(\"driver\", \"org.postgresql.Driver\") \\\n",
    "    .option(\"dbtable\", \"address\") \\\n",
    "    .option(\"user\", \"postgres\") \\\n",
    "    .option(\"password\", \"postgre\") \\\n",
    "    .load()\n"
   ]
  },
  {
   "cell_type": "code",
   "execution_count": 14,
   "id": "b0956321",
   "metadata": {},
   "outputs": [],
   "source": [
    "customer = spark.read \\\n",
    "    .format(\"jdbc\") \\\n",
    "    .option(\"url\", \"jdbc:postgresql://localhost:5432/postgres\") \\\n",
    "    .option(\"driver\", \"org.postgresql.Driver\") \\\n",
    "    .option(\"dbtable\", \"customer\") \\\n",
    "    .option(\"user\", \"postgres\") \\\n",
    "    .option(\"password\", \"postgre\") \\\n",
    "    .load()"
   ]
  },
  {
   "cell_type": "code",
   "execution_count": 15,
   "id": "21ea159b",
   "metadata": {
    "scrolled": true
   },
   "outputs": [
    {
     "name": "stdout",
     "output_type": "stream",
     "text": [
      "+-----------+--------------+\n",
      "|name       |count(film_id)|\n",
      "+-----------+--------------+\n",
      "|Sports     |74            |\n",
      "|Foreign    |73            |\n",
      "|Family     |69            |\n",
      "|Documentary|68            |\n",
      "|Animation  |66            |\n",
      "|Action     |64            |\n",
      "|New        |63            |\n",
      "|Drama      |62            |\n",
      "|Games      |61            |\n",
      "|Sci-Fi     |61            |\n",
      "|Children   |60            |\n",
      "|Comedy     |58            |\n",
      "|Travel     |57            |\n",
      "|Classics   |57            |\n",
      "|Horror     |56            |\n",
      "|Music      |51            |\n",
      "+-----------+--------------+\n",
      "\n"
     ]
    }
   ],
   "source": [
    "#Вывести количество фильмов в каждой категории, отсортировать по убыванию.\n",
    "film_category.join(category,film_category.category_id == category.category_id,\"inner\")\\\n",
    ".groupBy('name').agg(count(col(\"film_id\"))).orderBy(col('count(film_id)'),ascending = False)\\\n",
    ".show(truncate=False)"
   ]
  },
  {
   "cell_type": "code",
   "execution_count": 17,
   "id": "f1f13585",
   "metadata": {},
   "outputs": [
    {
     "name": "stdout",
     "output_type": "stream",
     "text": [
      "+----------------+----------+-----------+\n",
      "|count(rental_id)|first_name|last_name  |\n",
      "+----------------+----------+-----------+\n",
      "|825             |SUSAN     |DAVIS      |\n",
      "|753             |GINA      |DEGENERES  |\n",
      "|678             |MATTHEW   |CARREY     |\n",
      "|674             |MARY      |KEITEL     |\n",
      "|654             |ANGELA    |WITHERSPOON|\n",
      "|640             |WALTER    |TORN       |\n",
      "|612             |HENRY     |BERRY      |\n",
      "|611             |JAYNE     |NOLTE      |\n",
      "|605             |VAL       |BOLGER     |\n",
      "|604             |SANDRA    |KILMER     |\n",
      "+----------------+----------+-----------+\n",
      "\n"
     ]
    }
   ],
   "source": [
    "#Вывести 10 актеров, чьи фильмы большего всего арендовали, отсортировать по убыванию.\n",
    "rental.join(inventory,rental.inventory_id == inventory.inventory_id,\"inner\")\\\n",
    "    .join(film, inventory.film_id == film.film_id)\\\n",
    "    .join(film_actor, film_actor.film_id == film.film_id)\\\n",
    "    .join(actor, film_actor.actor_id == actor.actor_id)\\\n",
    "    .groupBy(\"first_name\", 'last_name')\\\n",
    "    .agg(count(col(\"rental_id\")))\\\n",
    "    .select('count(rental_id)',\"first_name\",\"last_name\")\\\n",
    "    .orderBy(col('count(rental_id)'),ascending = False)\\\n",
    "    .limit(10)\\\n",
    "    .show(truncate=False)"
   ]
  },
  {
   "cell_type": "code",
   "execution_count": 18,
   "id": "566497b0",
   "metadata": {},
   "outputs": [
    {
     "name": "stdout",
     "output_type": "stream",
     "text": [
      "+------+\n",
      "|name  |\n",
      "+------+\n",
      "|Sports|\n",
      "+------+\n",
      "\n"
     ]
    }
   ],
   "source": [
    "#Вывести категорию фильмов, на которую потратили больше всего денег.\n",
    "payment.join(rental, payment.rental_id == rental.rental_id)\\\n",
    "    .join(inventory,rental.inventory_id == inventory.inventory_id)\\\n",
    "    .join(film, inventory.film_id == film.film_id)\\\n",
    "    .join(film_category, film_category.film_id == film.film_id)\\\n",
    "    .join(category, film_category.category_id == category.category_id)\\\n",
    "    .groupBy(\"name\")\\\n",
    "    .sum(\"amount\")\\\n",
    "    .select('name')\\\n",
    "    .orderBy(col('sum(amount)'),ascending = False)\\\n",
    "    .limit(1)\\\n",
    "    .show(truncate=False)"
   ]
  },
  {
   "cell_type": "code",
   "execution_count": 20,
   "id": "1ae795bb",
   "metadata": {},
   "outputs": [
    {
     "name": "stdout",
     "output_type": "stream",
     "text": [
      "+----------------------+\n",
      "|title                 |\n",
      "+----------------------+\n",
      "|ALICE FANTASIA        |\n",
      "|APOLLO TEEN           |\n",
      "|ARGONAUTS TOWN        |\n",
      "|ARK RIDGEMONT         |\n",
      "|ARSENIC INDEPENDENCE  |\n",
      "|BOONDOCK BALLROOM     |\n",
      "|BUTCH PANTHER         |\n",
      "|CATCH AMISTAD         |\n",
      "|CHINATOWN GLADIATOR   |\n",
      "|CHOCOLATE DUCK        |\n",
      "|COMMANDMENTS EXPRESS  |\n",
      "|CROSSING DIVORCE      |\n",
      "|CROWDS TELEMARK       |\n",
      "|CRYSTAL BREAKING      |\n",
      "|DAZED PUNK            |\n",
      "|DELIVERANCE MULHOLLAND|\n",
      "|FIREHOUSE VIETNAM     |\n",
      "|FLOATS GARDEN         |\n",
      "|FRANKENSTEIN STRANGER |\n",
      "|GLADIATOR WESTWARD    |\n",
      "+----------------------+\n",
      "only showing top 20 rows\n",
      "\n"
     ]
    }
   ],
   "source": [
    "#Вывести названия фильмов, которых нет в inventory. Написать запрос без использования оператора IN.\n",
    "film.join(inventory,film.film_id == inventory.film_id,\"left\")\\\n",
    ".filter(inventory.inventory_id.isNull())\\\n",
    ".select(col('title'))\\\n",
    ".orderBy(col('title'),ascending = True)\\\n",
    ".show(truncate=False)"
   ]
  },
  {
   "cell_type": "code",
   "execution_count": 21,
   "id": "dcf68462",
   "metadata": {},
   "outputs": [
    {
     "name": "stdout",
     "output_type": "stream",
     "text": [
      "+---------+----------+-----+\n",
      "|last_name|first_name|place|\n",
      "+---------+----------+-----+\n",
      "|   VOIGHT|     HELEN|    1|\n",
      "|    DAVIS|     SUSAN|    2|\n",
      "|  GARLAND|     KEVIN|    3|\n",
      "|     CRUZ|     RALPH|    3|\n",
      "|     HURT|    WHOOPI|    3|\n",
      "|    TANDY|      MARY|    3|\n",
      "+---------+----------+-----+\n",
      "\n"
     ]
    }
   ],
   "source": [
    "#Вывести топ 3 актеров, которые больше всего появлялись в фильмах в категории “Children”. \n",
    "#Если у нескольких актеров одинаковое кол-во фильмов, вывести всех.\n",
    "\n",
    "t1 = actor.join(film_actor, actor.actor_id == film_actor.actor_id)\\\n",
    ".join(film_category, film_actor.film_id == film_category.film_id)\\\n",
    ".join(category, film_category.category_id == category.category_id)\\\n",
    ".filter(category.name == 'Children')\\\n",
    ".groupBy(\"first_name\", 'last_name')\\\n",
    ".agg(count(col(\"last_name\")))\\\n",
    ".select('last_name', 'first_name', 'count(last_name)')\\\n",
    ".orderBy('count(last_name)', ascending = False)\n",
    "\n",
    "windowSpec = Window.orderBy('count(last_name)')\n",
    "\n",
    "t2 = t1.withColumn(\"place\",dense_rank().over(Window.orderBy(desc('count(last_name)'))))\n",
    "t2.filter(col(\"place\") < 4)\\\n",
    ".select('last_name', 'first_name', 'place').show()"
   ]
  },
  {
   "cell_type": "code",
   "execution_count": 22,
   "id": "4ddc545e",
   "metadata": {},
   "outputs": [],
   "source": [
    "#Вывести города с количеством активных и неактивных клиентов (активный — customer.active = 1). \n",
    "#Отсортировать по количеству неактивных клиентов по убыванию.\n",
    "customers = city.join(address, address.city_id == city.city_id)\\\n",
    ".join(customer, customer.address_id == address.address_id)\\\n",
    ".withColumn('active',expr(\"CASE WHEN active = 1 THEN 1 ELSE 0 END\"))\\\n",
    ".withColumn('inactive',expr(\"CASE WHEN active = 0 THEN 1 ELSE 0 END\"))\\\n",
    ".select(col(\"*\"))"
   ]
  },
  {
   "cell_type": "code",
   "execution_count": 23,
   "id": "5ebdc304",
   "metadata": {},
   "outputs": [],
   "source": [
    "active_customers = customers.groupBy('city')\\\n",
    ".sum('active')\\\n",
    ".select(col(\"*\"))"
   ]
  },
  {
   "cell_type": "code",
   "execution_count": 24,
   "id": "2019fbef",
   "metadata": {},
   "outputs": [],
   "source": [
    "inactive_customers = customers.groupBy('city')\\\n",
    ".sum('inactive')\\\n",
    ".select(col(\"*\"))"
   ]
  },
  {
   "cell_type": "code",
   "execution_count": 25,
   "id": "05fdba8c",
   "metadata": {},
   "outputs": [
    {
     "name": "stdout",
     "output_type": "stream",
     "text": [
      "+------------------+-----------+------------------+-------------+\n",
      "|              city|sum(active)|              city|sum(inactive)|\n",
      "+------------------+-----------+------------------+-------------+\n",
      "|         Pingxiang|          0|         Pingxiang|            1|\n",
      "|       Szkesfehrvr|          0|       Szkesfehrvr|            1|\n",
      "|  Charlotte Amalie|          0|  Charlotte Amalie|            1|\n",
      "|         Najafabad|          0|         Najafabad|            1|\n",
      "|           Wroclaw|          0|           Wroclaw|            1|\n",
      "|            Ktahya|          0|            Ktahya|            1|\n",
      "|           Bat Yam|          0|           Bat Yam|            1|\n",
      "|   Southend-on-Sea|          0|   Southend-on-Sea|            1|\n",
      "|            Amroha|          0|            Amroha|            1|\n",
      "|            Kamyin|          0|            Kamyin|            1|\n",
      "|          Xiangfan|          0|          Xiangfan|            1|\n",
      "|            Daxian|          0|            Daxian|            1|\n",
      "|          Uluberia|          0|          Uluberia|            1|\n",
      "|     Coatzacoalcos|          0|     Coatzacoalcos|            1|\n",
      "|        Kumbakonam|          0|        Kumbakonam|            1|\n",
      "|A Corua (La Corua)|          1|A Corua (La Corua)|            0|\n",
      "|          Fengshan|          1|          Fengshan|            0|\n",
      "|          Chisinau|          1|          Chisinau|            0|\n",
      "|           Udaipur|          1|           Udaipur|            0|\n",
      "|              Linz|          1|              Linz|            0|\n",
      "+------------------+-----------+------------------+-------------+\n",
      "only showing top 20 rows\n",
      "\n"
     ]
    }
   ],
   "source": [
    "active_customers.join(inactive_customers, inactive_customers.city == active_customers.city)\\\n",
    ".orderBy(col('sum(inactive)'),ascending = False).show()"
   ]
  },
  {
   "cell_type": "code",
   "execution_count": 39,
   "id": "10423106",
   "metadata": {},
   "outputs": [
    {
     "name": "stdout",
     "output_type": "stream",
     "text": [
      "+---------+-------------------+------------+-----------+-------------------+--------+-------------------+-----------------------------------------+\n",
      "|rental_id|        rental_date|inventory_id|customer_id|        return_date|staff_id|        last_update|(datediff(return_date, rental_date) * 24)|\n",
      "+---------+-------------------+------------+-----------+-------------------+--------+-------------------+-----------------------------------------+\n",
      "|        2|2022-05-24 23:54:33|        1525|        459|2022-05-28 20:40:33|       1|2022-02-16 03:30:53|                                       96|\n",
      "|        3|2022-05-25 00:03:39|        1711|        408|2022-06-01 23:12:39|       1|2022-02-16 03:30:53|                                      168|\n",
      "|        4|2022-05-25 00:04:41|        2452|        333|2022-06-03 02:43:41|       2|2022-02-16 03:30:53|                                      216|\n",
      "|        5|2022-05-25 00:05:21|        2079|        222|2022-06-02 05:33:21|       1|2022-02-16 03:30:53|                                      192|\n",
      "|        6|2022-05-25 00:08:07|        2792|        549|2022-05-27 02:32:07|       1|2022-02-16 03:30:53|                                       48|\n",
      "|        7|2022-05-25 00:11:53|        3995|        269|2022-05-29 21:34:53|       2|2022-02-16 03:30:53|                                       96|\n",
      "|        8|2022-05-25 00:31:46|        2346|        239|2022-05-28 00:33:46|       2|2022-02-16 03:30:53|                                       72|\n",
      "|        9|2022-05-25 01:00:40|        2580|        126|2022-05-28 01:22:40|       1|2022-02-16 03:30:53|                                       72|\n",
      "|       10|2022-05-25 01:02:21|        1824|        399|2022-05-31 23:44:21|       2|2022-02-16 03:30:53|                                      144|\n",
      "|       11|2022-05-25 01:09:02|        4443|        142|2022-06-02 21:56:02|       2|2022-02-16 03:30:53|                                      192|\n",
      "|       12|2022-05-25 01:19:27|        1584|        261|2022-05-30 06:44:27|       2|2022-02-16 03:30:53|                                      120|\n",
      "|       13|2022-05-25 01:22:55|        2294|        334|2022-05-30 05:28:55|       1|2022-02-16 03:30:53|                                      120|\n",
      "|       14|2022-05-25 01:31:15|        2701|        446|2022-05-26 03:56:15|       1|2022-02-16 03:30:53|                                       24|\n",
      "|       15|2022-05-25 01:39:22|        3049|        319|2022-06-03 04:30:22|       1|2022-02-16 03:30:53|                                      216|\n",
      "|       16|2022-05-25 01:43:11|         389|        316|2022-05-26 05:42:11|       2|2022-02-16 03:30:53|                                       24|\n",
      "|       17|2022-05-25 02:06:36|         830|        575|2022-05-27 01:43:36|       1|2022-02-16 03:30:53|                                       48|\n",
      "|       18|2022-05-25 02:10:47|        3376|         19|2022-05-31 07:35:47|       2|2022-02-16 03:30:53|                                      144|\n",
      "|       19|2022-05-25 02:17:24|        1941|        456|2022-05-31 07:00:24|       1|2022-02-16 03:30:53|                                      144|\n",
      "|       20|2022-05-25 02:48:41|        3517|        185|2022-05-27 03:20:41|       2|2022-02-16 03:30:53|                                       48|\n",
      "|       21|2022-05-25 02:59:46|         146|        388|2022-05-26 02:01:46|       2|2022-02-16 03:30:53|                                       24|\n",
      "+---------+-------------------+------------+-----------+-------------------+--------+-------------------+-----------------------------------------+\n",
      "only showing top 20 rows\n",
      "\n"
     ]
    }
   ],
   "source": [
    "#Вывести категорию фильмов, у которой самое большое кол-во часов суммарной аренды в городах \n",
    "#(customer.address_id в этом city), и которые начинаются на букву “a”. То же самое сделать для городов в которых есть символ “-”.\n",
    "rental_hours = rental.select(col(\"*\"),\n",
    "      datediff(col(\"return_date\"),col(\"rental_date\"))*24\n",
    "    )"
   ]
  },
  {
   "cell_type": "code",
   "execution_count": 68,
   "id": "3435bdb2",
   "metadata": {},
   "outputs": [],
   "source": [
    "cities_a = category.join(film_category, film_category.category_id == category.category_id)\\\n",
    ".join(inventory, inventory.film_id == film_category.film_id)\\\n",
    ".join(rental_hours,inventory.inventory_id == rental_hours.inventory_id)\\\n",
    ".join(customer, customer.store_id == inventory.store_id)\\\n",
    ".join(address, customer.address_id == address.address_id)\\\n",
    ".join(city, address.city_id == city.city_id)\\\n",
    ".filter(upper(city.city).like(\"A%\"))\\\n",
    ".groupBy(category.name)\\\n",
    ".sum('(datediff(return_date, rental_date) * 24)')"
   ]
  },
  {
   "cell_type": "code",
   "execution_count": 69,
   "id": "3982b14c",
   "metadata": {},
   "outputs": [
    {
     "name": "stdout",
     "output_type": "stream",
     "text": [
      "+------+----------------------------------------------+\n",
      "|  name|sum((datediff(return_date, rental_date) * 24))|\n",
      "+------+----------------------------------------------+\n",
      "|Sports|                                       3170664|\n",
      "+------+----------------------------------------------+\n",
      "\n"
     ]
    }
   ],
   "source": [
    "cities_a.select('name', \"sum((datediff(return_date, rental_date) * 24))\")\\\n",
    ".orderBy('sum((datediff(return_date, rental_date) * 24))', ascending = False)\\\n",
    ".limit(1)\\\n",
    ".show()"
   ]
  },
  {
   "cell_type": "code",
   "execution_count": 70,
   "id": "81fe4a79",
   "metadata": {},
   "outputs": [],
   "source": [
    "cities_hyphen = category.join(film_category, film_category.category_id == category.category_id)\\\n",
    ".join(inventory, inventory.film_id == film_category.film_id)\\\n",
    ".join(rental_hours,inventory.inventory_id == rental_hours.inventory_id)\\\n",
    ".join(customer, customer.store_id == inventory.store_id)\\\n",
    ".join(address, customer.address_id == address.address_id)\\\n",
    ".join(city, address.city_id == city.city_id)\\\n",
    ".filter(city.city.like(\"%-%\"))\\\n",
    ".groupBy(category.name)\\\n",
    ".sum('(datediff(return_date, rental_date) * 24)')"
   ]
  },
  {
   "cell_type": "code",
   "execution_count": 71,
   "id": "d9a615fa",
   "metadata": {},
   "outputs": [
    {
     "name": "stdout",
     "output_type": "stream",
     "text": [
      "+------+----------------------------------------------+\n",
      "|  name|sum((datediff(return_date, rental_date) * 24))|\n",
      "+------+----------------------------------------------+\n",
      "|Sports|                                       1786992|\n",
      "+------+----------------------------------------------+\n",
      "\n"
     ]
    }
   ],
   "source": [
    "cities_hyphen.select('name', \"sum((datediff(return_date, rental_date) * 24))\")\\\n",
    ".orderBy('sum((datediff(return_date, rental_date) * 24))', ascending = False)\\\n",
    ".limit(1)\\\n",
    ".show()"
   ]
  },
  {
   "cell_type": "code",
   "execution_count": null,
   "id": "39c529f5",
   "metadata": {},
   "outputs": [],
   "source": []
  }
 ],
 "metadata": {
  "kernelspec": {
   "display_name": "Python 3 (ipykernel)",
   "language": "python",
   "name": "python3"
  },
  "language_info": {
   "codemirror_mode": {
    "name": "ipython",
    "version": 3
   },
   "file_extension": ".py",
   "mimetype": "text/x-python",
   "name": "python",
   "nbconvert_exporter": "python",
   "pygments_lexer": "ipython3",
   "version": "3.9.12"
  }
 },
 "nbformat": 4,
 "nbformat_minor": 5
}
